{
 "cells": [
  {
   "cell_type": "markdown",
   "metadata": {},
   "source": [
    "## The SI Model exercise problem "
   ]
  },
  {
   "cell_type": "markdown",
   "metadata": {},
   "source": [
    "$N$ : the number of populate <br />\n",
    "$S$ : the number of susceptible person <br />\n",
    "$I$ : the number of infected person <br />\n",
    "$s$ : $S$/$N$ <br />\n",
    "$i$ : $I$/$N$ <br />\n",
    "$c$ : contact ratio <br />\n",
    "$r$ : transmission ratio <br />\n",
    "$\\beta$ = $c*r$ : spread ratio, that is sufficient to result in the spread of disease entirely at random with per-individual at per unit time\n",
    "\n"
   ]
  },
  {
   "cell_type": "markdown",
   "metadata": {},
   "source": [
    "=> In perspective of per unit time, per individual's expectation  "
   ]
  },
  {
   "cell_type": "markdown",
   "metadata": {},
   "source": [
    "$S$/$N$ : average probability of a person you meet at random being susceptible people per unit time <br />\n",
    "\n",
    "$\\beta S/N$ : average probability of an infected person has contact with susceptible people and cause infection per unit time \n",
    "\n"
   ]
  },
  {
   "cell_type": "markdown",
   "metadata": {},
   "source": [
    "We can write a differential equation for the rate of change of $I$ <br />\n",
    "\n",
    "$\\frac{dI}{dt} = \\beta \\frac{SI}{N}$ <br />\n",
    "\n",
    "$\\frac{di}{dt} = \\beta {si}$ <br />\n",
    "\n",
    "$ s = 1-i $ <br />\n",
    "\n",
    "thus $\\frac{di}{dt} = \\beta {(1-i)i}$ <br />\n",
    "\n"
   ]
  },
  {
   "cell_type": "markdown",
   "metadata": {},
   "source": [
    "This is the logistic growth equation, \n",
    "\n",
    "$i(t) = \\frac{i_0 e^{\\beta t}}{1+i_0+i_0 e^{\\beta t}} $\n",
    "\n",
    "\n",
    "\n"
   ]
  },
  {
   "cell_type": "markdown",
   "metadata": {},
   "source": [
    "Now, go back to the problem \n",
    "\n",
    "* consider 20 times unit(5 days as one-time unit)\n",
    "\n",
    "* $I_0 = 5$ \n",
    "\n",
    "* $N = 100$\n",
    "\n",
    "* $c = C/N, C \\sim Poisson(\\lambda)$ , $C$ : the number of contacts \n",
    "\n",
    "* if $t < 10$ then $r = 0.2$, else $r = 0.14$ \n",
    "\n",
    "* if $t < 12$ then $\\lambda = 10$, else $\\lambda = 3$ \n",
    "\n",
    "\n",
    "\n",
    "\n"
   ]
  },
  {
   "cell_type": "markdown",
   "metadata": {},
   "source": [
    "We can generate\n",
    "$pmf(i|t,i_0, \\lambda , r)$ "
   ]
  },
  {
   "cell_type": "code",
   "execution_count": 1,
   "metadata": {},
   "outputs": [],
   "source": [
    "import numpy as np\n",
    "\n",
    "N = 100\n",
    "r_t1 = 0.2\n",
    "r_t10 = 0.14\n",
    "I_0 = 5\n",
    "\n",
    "C_t1 = np.random.poisson(10,100)\n",
    "C_t12 = np.random.poisson(3,100)"
   ]
  },
  {
   "cell_type": "code",
   "execution_count": 2,
   "metadata": {},
   "outputs": [],
   "source": [
    "def infection_process(I_0, N, C, r, t):\n",
    "    i_ = ((I_0/N)*np.exp((C/N)*r*t))/(1-(I_0/N)+(I_0/N)*np.exp((C/N)*r*t))\n",
    "    return i_"
   ]
  },
  {
   "cell_type": "code",
   "execution_count": 3,
   "metadata": {},
   "outputs": [],
   "source": [
    "i_t = []\n",
    "for t in range(1,21):\n",
    "    if t < 10 :\n",
    "        rt = r_t1\n",
    "        Ct = C_t1\n",
    "        i_t = i_t + [[infection_process(I_0, N, C, rt, t) for C in Ct]]\n",
    "    if (10 <= t and t < 12)  :\n",
    "        rt = r_t10\n",
    "        Ct = C_t1\n",
    "        i_t = i_t + [[infection_process(I_0, N, C, rt, t) for C in Ct]]\n",
    "    if t >= 12  :\n",
    "        rt = r_t10\n",
    "        Ct = C_t12\n",
    "        i_t = i_t + [[infection_process(I_0, N, C, rt, t) for C in Ct]] "
   ]
  },
  {
   "cell_type": "code",
   "execution_count": 4,
   "metadata": {},
   "outputs": [
    {
     "data": {
      "image/png": "[encoded data removed]",
      "text/plain": [
       "<Figure size 800x400 with 1 Axes>"
      ]
     },
     "metadata": {
      "needs_background": "light"
     },
     "output_type": "display_data"
    }
   ],
   "source": [
    "import matplotlib.pyplot as plt\n",
    "fig=plt.figure(figsize=(10, 5), dpi= 80)\n",
    "plt.boxplot(i_t)\n",
    "plt.show()"
   ]
  },
  {
   "cell_type": "code",
   "execution_count": null,
   "metadata": {},
   "outputs": [],
   "source": []
  }
 ],
 "metadata": {
  "anaconda-cloud": {},
  "kernelspec": {
   "display_name": "Python 3",
   "language": "python",
   "name": "python3"
  },
  "language_info": {
   "codemirror_mode": {
    "name": "ipython",
    "version": 3
   },
   "file_extension": ".py",
   "mimetype": "text/x-python",
   "name": "python",
   "nbconvert_exporter": "python",
   "pygments_lexer": "ipython3",
   "version": "3.7.6"
  }
 },
 "nbformat": 4,
 "nbformat_minor": 2
}
